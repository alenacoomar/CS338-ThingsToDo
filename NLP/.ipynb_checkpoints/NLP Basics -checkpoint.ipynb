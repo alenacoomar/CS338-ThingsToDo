{
 "cells": [
  {
   "cell_type": "code",
   "execution_count": 59,
   "metadata": {},
   "outputs": [],
   "source": [
    "#https://spacy.io/usage/linguistic-features"
   ]
  },
  {
   "cell_type": "markdown",
   "metadata": {},
   "source": [
    "## Overall Approach"
   ]
  },
  {
   "cell_type": "code",
   "execution_count": 2,
   "metadata": {},
   "outputs": [],
   "source": [
    "import spacy\n",
    "nlp = spacy.load(\"en_core_web_sm\")"
   ]
  },
  {
   "cell_type": "code",
   "execution_count": 20,
   "metadata": {},
   "outputs": [
    {
     "data": {
      "text/plain": [
       "[['Abby Heath', ' alright.'],\n",
       " ['Abby Heath',\n",
       "  ' So what do we still What else do we need to what tasks, do we need to assign.'],\n",
       " ['Chenyu Hu', ' I think our.'],\n",
       " ['Chenyu Hu',\n",
       "  ' first task is to fight as the transcript from the audio by using the two API, and so we can focus on the maybe the LP.'],\n",
       " ['Abby Heath', ' yeah so I can work on.'],\n",
       " ['Abby Heath', ' me, and you can work on getting these audio transcripts.'],\n",
       " ['N/A', 'yeah.'],\n",
       " ['Abby Heath',\n",
       "  ' um and figuring out how to you know use a back end and the zoom API to actually access them.'],\n",
       " ['Abby Heath',\n",
       "  \" yeah and ELENA can work on you know getting the nlp startup because I don't know how that works um.\"],\n",
       " ['Abby Heath', ' Someone should also probably get started on the front end.'],\n",
       " ['Abby Heath',\n",
       "  ' So imagine the two of us are going to need to start a back end.'],\n",
       " ['Chenyu Hu',\n",
       "  ' In order yeah I think the from that part is pretty simple, we all need Bennett function for the problem.'],\n",
       " ['Abby Heath', \" I don't know.\"],\n",
       " ['Abby Heath', \" How much of a front end we're.\"],\n",
       " ['Abby Heath',\n",
       "  \" going to need because we're not really I don't think we were really planning on having like.\"],\n",
       " ['Abby Heath',\n",
       "  ' I guess, we need something that you like press a button that says okay start.'],\n",
       " ['Abby Heath',\n",
       "  ' somewhere where you can give it your information, so we need a front end someone has to build a front end where.'],\n",
       " ['Abby Heath',\n",
       "  ' You can put in either like a zoo link if we can figure out how to work with like adding a zoom link or where you can paste in the meeting ID and then do all the work, but I feel like our front end is going to be pretty small.'],\n",
       " ['Chenyu Hu', ' yeah.'],\n",
       " ['Abby Heath',\n",
       "  \" I think our backend is going to be, you know where and that'll be stuff.\"],\n",
       " ['Chenyu Hu', ' yeah I think the key part.'],\n",
       " ['Chenyu Hu', ' I think, is the hardest one for the party.'],\n",
       " ['Abby Heath',\n",
       "  \" yeah unfortunately again I I know nothing about nlp so i'm sure i'll learn as we go, so I really have no idea what kind of work goes into that.\"],\n",
       " ['Chenyu Hu',\n",
       "  \" yeah I think there is something about your group has a backhand uh how's the background about the hell.\"],\n",
       " ['Abby Heath',\n",
       "  \" yeah I think a good people do, which is good because I don't but i'm sure we'll figure it out okay.\"],\n",
       " ['N/A', 'yeah.']]"
      ]
     },
     "execution_count": 20,
     "metadata": {},
     "output_type": "execute_result"
    }
   ],
   "source": [
    "# 0. Make into list of lists [name, words]\n",
    "import webvtt\n",
    "\n",
    "name_transcript = []\n",
    "for caption in webvtt.read('Transcript.vtt'):\n",
    "    if \":\" in caption.text:\n",
    "        name_transcript.append(caption.text.split(\":\"))\n",
    "    else:\n",
    "        name_transcript.append([\"N/A\", caption.text])"
   ]
  },
  {
   "cell_type": "code",
   "execution_count": 29,
   "metadata": {},
   "outputs": [],
   "source": [
    "def task_finder(transcript):\n",
    "    # 1. Split transcript into sentences\n",
    "    sentences = transcript.split('.')\n",
    "    all_sentences = [i for i in sentences if i] # removes empty strings\n",
    "\n",
    "    # 2. Go through each sentence and check for task patterns\n",
    "    #    Save these sentences into new array as task_sentences\n",
    "    task_sentences = []\n",
    "    for s in all_sentences:\n",
    "        processed = nlp(s)\n",
    "        is_task = 0\n",
    "        i = 0\n",
    "\n",
    "        for token in processed:\n",
    "            # if proper-noun/pronoun + 'will/should'\n",
    "            if (token.pos_ == 'PROPN' or token.pos_ == 'PRON') and (token.text != 'It'):\n",
    "                if(i+1 < len(s.split())):\n",
    "                    next_word = processed[i+1].text\n",
    "                    if (next_word == 'will') or (next_word == 'should'):\n",
    "                        is_task = 1\n",
    "\n",
    "            # if '(need, needs) to' in sentence\n",
    "            if (is_task == 0) and ((token.text == 'need') or (token.text == 'needs')):\n",
    "                if(i+1 < len(s.split())):\n",
    "                    next_word = processed[i+1].text\n",
    "                    if (next_word == 'to'):\n",
    "                        is_task = 1\n",
    "\n",
    "            i = i + 1\n",
    "\n",
    "        if is_task == 1:\n",
    "            task_sentences.append(s)\n",
    "    return task_sentences"
   ]
  },
  {
   "cell_type": "code",
   "execution_count": 31,
   "metadata": {},
   "outputs": [
    {
     "data": {
      "text/plain": [
       "[[' So what do we still What else do we need to what tasks, do we need to assign'],\n",
       " [' Someone should also probably get started on the front end'],\n",
       " [' So imagine the two of us are going to need to start a back end']]"
      ]
     },
     "execution_count": 31,
     "metadata": {},
     "output_type": "execute_result"
    }
   ],
   "source": [
    "all_tasks = []\n",
    "for t in name_transcript:\n",
    "    curr_task = task_finder(t[1])\n",
    "    if curr_task:\n",
    "        all_tasks.append(curr_task)\n",
    "    \n",
    "all_tasks\n",
    "\n",
    " # 3. Person match\n",
    "    # \"I\" --> current speaker\n",
    "    # \"You\" --> previous speaker\n",
    "    # \"That\" --> previous task? like Alena will do that\n",
    "    "
   ]
  },
  {
   "cell_type": "markdown",
   "metadata": {},
   "source": [
    "## Everything else is testing"
   ]
  },
  {
   "cell_type": "code",
   "execution_count": 3,
   "metadata": {},
   "outputs": [
    {
     "name": "stdout",
     "output_type": "stream",
     "text": [
      "set table \n",
      "cook dinner tomorrow \n",
      "\n",
      "go \n"
     ]
    },
    {
     "data": {
      "text/plain": [
       "['set table ', 'cook dinner tomorrow ', 'go ']"
      ]
     },
     "execution_count": 3,
     "metadata": {},
     "output_type": "execute_result"
    }
   ],
   "source": [
    "# fails on \"We should go to the market\"\n",
    "# Gets the core task and ignores fluff sentances (checks that part of speech head is verb)\n",
    "task_list = []\n",
    "for t in transcript:\n",
    "    processed = nlp(t)\n",
    "    curr_task = ''\n",
    "\n",
    "    for token in processed:\n",
    "        if token.head.pos_ == 'VERB' and (token.pos_ == 'VERB' or token.pos_ =='NOUN'):\n",
    "            curr_task += token.text + ' '\n",
    "    print(curr_task)\n",
    "    if curr_task != '':\n",
    "        task_list.append(curr_task)\n",
    "task_list"
   ]
  },
  {
   "cell_type": "code",
   "execution_count": 39,
   "metadata": {},
   "outputs": [
    {
     "name": "stdout",
     "output_type": "stream",
     "text": [
      "I will\n",
      "Alex should\n",
      "We can\n"
     ]
    },
    {
     "data": {
      "text/plain": [
       "['I will', 'Alex should', 'We can']"
      ]
     },
     "execution_count": 39,
     "metadata": {},
     "output_type": "execute_result"
    }
   ],
   "source": [
    "transcript = [\"I will set the table with the blue napkins.\", \"Alex should cook dinner tomorrow.\", \"It is a pretty day outside.\", \"We can go to the market\"]\n",
    "# need to add rest of action somehow\n",
    "# looks for (proper-noun/pronoun + \"will/should/can\")\n",
    "task_list = []\n",
    "for t in transcript:\n",
    "    processed = nlp(t)\n",
    "    curr_task = ''\n",
    "    i = 0\n",
    "\n",
    "    for token in processed:\n",
    "        if (token.pos_ == 'PROPN' or token.pos_ == 'PRON') and (token.text != 'It'):\n",
    "            if(i+1 < len(t.split())):\n",
    "                next_word = processed[i+1].text\n",
    "                if (next_word == 'will') or (next_word == 'should') or (next_word == 'can'):\n",
    "                    curr_task += token.text + ' ' + next_word\n",
    "                    print(curr_task)\n",
    "        i = i + 1\n",
    "    \n",
    "    if curr_task != '':\n",
    "        task_list.append(curr_task)\n",
    "task_list"
   ]
  },
  {
   "cell_type": "code",
   "execution_count": 8,
   "metadata": {},
   "outputs": [
    {
     "name": "stdout",
     "output_type": "stream",
     "text": [
      "['need']\n"
     ]
    }
   ],
   "source": [
    "doc = nlp(\"needed\")\n",
    "print([token.lemma_ for token in doc])"
   ]
  },
  {
   "cell_type": "code",
   "execution_count": 27,
   "metadata": {},
   "outputs": [
    {
     "name": "stdout",
     "output_type": "stream",
     "text": [
      "is\n",
      "cleaning\n",
      "the\n",
      "car\n"
     ]
    }
   ],
   "source": [
    "words = \"She is cleaning the car\"\n",
    "processed = nlp(words)\n",
    "i = 0\n",
    "\n",
    "for token in processed:\n",
    "    if (i+1) < len(words.split()):\n",
    "        print(processed[i+1].text)\n",
    "    i += 1"
   ]
  },
  {
   "cell_type": "code",
   "execution_count": 40,
   "metadata": {},
   "outputs": [
    {
     "name": "stdout",
     "output_type": "stream",
     "text": [
      "['PRON', 'AUX', 'VERB', 'DET', 'NOUN', 'ADP', 'DET', 'ADJ', 'NOUN', 'PUNCT']\n"
     ]
    }
   ],
   "source": [
    "doc = nlp(\"I will set the table with the blue napkins.\")\n",
    "print([token.pos_ for token in doc])"
   ]
  },
  {
   "cell_type": "code",
   "execution_count": null,
   "metadata": {},
   "outputs": [],
   "source": []
  }
 ],
 "metadata": {
  "kernelspec": {
   "display_name": "Python 3",
   "language": "python",
   "name": "python3"
  },
  "language_info": {
   "codemirror_mode": {
    "name": "ipython",
    "version": 3
   },
   "file_extension": ".py",
   "mimetype": "text/x-python",
   "name": "python",
   "nbconvert_exporter": "python",
   "pygments_lexer": "ipython3",
   "version": "3.8.5"
  }
 },
 "nbformat": 4,
 "nbformat_minor": 4
}
