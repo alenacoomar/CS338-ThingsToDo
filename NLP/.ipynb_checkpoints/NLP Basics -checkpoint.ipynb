{
 "cells": [
  {
   "cell_type": "code",
   "execution_count": 1,
   "metadata": {},
   "outputs": [],
   "source": [
    "#https://spacy.io/usage/linguistic-features#dependency-parse"
   ]
  },
  {
   "cell_type": "markdown",
   "metadata": {},
   "source": [
    "## Overall Approach"
   ]
  },
  {
   "cell_type": "code",
   "execution_count": 54,
   "metadata": {},
   "outputs": [
    {
     "name": "stdout",
     "output_type": "stream",
     "text": [
      "['I will set the table', ' Abby should go to the store and buy a cake', ' We can eat lunch at noon and I will get pizza']\n"
     ]
    }
   ],
   "source": [
    "# 1. Split transcript into sentences\n",
    "transcript = \"I will set the table. She is cool. Abby should go to the store and buy a cake. We can eat lunch at noon and I will get pizza. I like breakfast.\"\n",
    "sentences = transcript.split('.')\n",
    "all_sentences = [i for i in sentences if i] # removes empty strings\n",
    "\n",
    "# 2. Go through each sentence and check for proper-noun/pronoun + 'will/should'. \n",
    "#    Save these sentences into new array as task_sentences\n",
    "task_sentences = []\n",
    "for s in all_sentences:\n",
    "    processed = nlp(s)\n",
    "    is_task = 0\n",
    "    i = 0\n",
    "\n",
    "    for token in processed:\n",
    "        if (token.pos_ == 'PROPN' or token.pos_ == 'PRON') and (token.text != 'It'):\n",
    "            if(i+1 < len(s.split())):\n",
    "                next_word = processed[i+1].text\n",
    "                if (next_word == 'will') or (next_word == 'should'):\n",
    "                    is_task = 1\n",
    "        i = i + 1\n",
    "    \n",
    "    if is_task == 1:\n",
    "        task_sentences.append(s)\n",
    "print(task_sentences)\n",
    "\n",
    "# 4. Parse each sentence to identify task?"
   ]
  },
  {
   "cell_type": "markdown",
   "metadata": {},
   "source": [
    "## Everything else is testing"
   ]
  },
  {
   "cell_type": "code",
   "execution_count": 13,
   "metadata": {},
   "outputs": [],
   "source": [
    "import spacy\n",
    "nlp = spacy.load(\"en_core_web_md\")\n",
    "\n",
    "transcript = [\"I will set the table with the blue napkins.\", \"You should cook dinner tomorrow.\", \"It's a pretty day outside.\", \"We should go to the market\"]\n",
    "task_list = []"
   ]
  },
  {
   "cell_type": "code",
   "execution_count": 3,
   "metadata": {},
   "outputs": [
    {
     "name": "stdout",
     "output_type": "stream",
     "text": [
      "set table \n",
      "cook dinner tomorrow \n",
      "\n",
      "go \n"
     ]
    },
    {
     "data": {
      "text/plain": [
       "['set table ', 'cook dinner tomorrow ', 'go ']"
      ]
     },
     "execution_count": 3,
     "metadata": {},
     "output_type": "execute_result"
    }
   ],
   "source": [
    "# fails on \"We should go to the market\"\n",
    "# Gets the core task and ignores fluff sentances (checks that part of speech head is verb)\n",
    "task_list = []\n",
    "for t in transcript:\n",
    "    processed = nlp(t)\n",
    "    curr_task = ''\n",
    "\n",
    "    for token in processed:\n",
    "        if token.head.pos_ == 'VERB' and (token.pos_ == 'VERB' or token.pos_ =='NOUN'):\n",
    "            curr_task += token.text + ' '\n",
    "    print(curr_task)\n",
    "    if curr_task != '':\n",
    "        task_list.append(curr_task)\n",
    "task_list"
   ]
  },
  {
   "cell_type": "code",
   "execution_count": 39,
   "metadata": {},
   "outputs": [
    {
     "name": "stdout",
     "output_type": "stream",
     "text": [
      "I will\n",
      "Alex should\n",
      "We can\n"
     ]
    },
    {
     "data": {
      "text/plain": [
       "['I will', 'Alex should', 'We can']"
      ]
     },
     "execution_count": 39,
     "metadata": {},
     "output_type": "execute_result"
    }
   ],
   "source": [
    "transcript = [\"I will set the table with the blue napkins.\", \"Alex should cook dinner tomorrow.\", \"It is a pretty day outside.\", \"We can go to the market\"]\n",
    "# need to add rest of action somehow\n",
    "# looks for (proper-noun/pronoun + \"will/should/can\")\n",
    "task_list = []\n",
    "for t in transcript:\n",
    "    processed = nlp(t)\n",
    "    curr_task = ''\n",
    "    i = 0\n",
    "\n",
    "    for token in processed:\n",
    "        if (token.pos_ == 'PROPN' or token.pos_ == 'PRON') and (token.text != 'It'):\n",
    "            if(i+1 < len(t.split())):\n",
    "                next_word = processed[i+1].text\n",
    "                if (next_word == 'will') or (next_word == 'should') or (next_word == 'can'):\n",
    "                    curr_task += token.text + ' ' + next_word\n",
    "                    print(curr_task)\n",
    "        i = i + 1\n",
    "    \n",
    "    if curr_task != '':\n",
    "        task_list.append(curr_task)\n",
    "task_list"
   ]
  },
  {
   "cell_type": "code",
   "execution_count": 44,
   "metadata": {},
   "outputs": [
    {
     "name": "stdout",
     "output_type": "stream",
     "text": [
      "['can']\n"
     ]
    }
   ],
   "source": [
    "doc = nlp(\"will\")\n",
    "print([token.lemma_ for token in doc])"
   ]
  },
  {
   "cell_type": "code",
   "execution_count": 27,
   "metadata": {},
   "outputs": [
    {
     "name": "stdout",
     "output_type": "stream",
     "text": [
      "is\n",
      "cleaning\n",
      "the\n",
      "car\n"
     ]
    }
   ],
   "source": [
    "words = \"She is cleaning the car\"\n",
    "processed = nlp(words)\n",
    "i = 0\n",
    "\n",
    "for token in processed:\n",
    "    if (i+1) < len(words.split()):\n",
    "        print(processed[i+1].text)\n",
    "    i += 1"
   ]
  },
  {
   "cell_type": "code",
   "execution_count": 40,
   "metadata": {},
   "outputs": [
    {
     "name": "stdout",
     "output_type": "stream",
     "text": [
      "['PRON', 'AUX', 'VERB', 'DET', 'NOUN', 'ADP', 'DET', 'ADJ', 'NOUN', 'PUNCT']\n"
     ]
    }
   ],
   "source": [
    "doc = nlp(\"I will set the table with the blue napkins.\")\n",
    "print([token.pos_ for token in doc])"
   ]
  },
  {
   "cell_type": "code",
   "execution_count": null,
   "metadata": {},
   "outputs": [],
   "source": []
  }
 ],
 "metadata": {
  "kernelspec": {
   "display_name": "Python 3",
   "language": "python",
   "name": "python3"
  },
  "language_info": {
   "codemirror_mode": {
    "name": "ipython",
    "version": 3
   },
   "file_extension": ".py",
   "mimetype": "text/x-python",
   "name": "python",
   "nbconvert_exporter": "python",
   "pygments_lexer": "ipython3",
   "version": "3.8.5"
  }
 },
 "nbformat": 4,
 "nbformat_minor": 4
}
