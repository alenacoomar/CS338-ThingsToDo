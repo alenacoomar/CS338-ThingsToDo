{
 "cells": [
  {
   "cell_type": "code",
   "execution_count": 13,
   "metadata": {},
   "outputs": [],
   "source": [
    "#https://spacy.io/usage/linguistic-features"
   ]
  },
  {
   "cell_type": "markdown",
   "metadata": {},
   "source": [
    "## Overall Approach"
   ]
  },
  {
   "cell_type": "code",
   "execution_count": 1,
   "metadata": {},
   "outputs": [],
   "source": [
    "def nlp(transcript):\n",
    "    import spacy\n",
    "    nlp = spacy.load(\"en_core_web_sm\")\n",
    "\n",
    "    # Make into list of lists [name, words]\n",
    "    import webvtt\n",
    "\n",
    "    name_transcript = []\n",
    "    for caption in webvtt.read('Transcript.vtt'):\n",
    "        if \":\" in caption.text:\n",
    "            name_transcript.append(caption.text.split(\":\"))\n",
    "        else:\n",
    "            name_transcript.append([\"Team\", caption.text]) # if speaker unknown then assign as team\n",
    "\n",
    "    all_tasks = []\n",
    "    all_assignees = []\n",
    "    curr_speaker = \"\"\n",
    "    prev_speaker = \"\"\n",
    "\n",
    "    # goes through each chunk of someone speaking\n",
    "    for t in name_transcript:\n",
    "        prev_speaker = curr_speaker\n",
    "        curr_speaker = t[0]\n",
    "        curr_tasks, curr_assigned_to = task_finder(t[1])\n",
    "\n",
    "\n",
    "        if curr_tasks: \n",
    "            all_tasks.append(curr_tasks)\n",
    "            for a in curr_assigned_to:\n",
    "                if a: # not empty\n",
    "                    if a == 'I': # \"I\" --> current speaker\n",
    "                        all_assignees.append(curr_speaker)\n",
    "                    elif a == 'you': # \"You\" --> previous speaker\n",
    "                        all_assignees.append(prev_speaker)\n",
    "                    else:\n",
    "                        all_assignees.append(a)\n",
    "\n",
    "    # Task Reassignment\n",
    "    # \"That\" --> previous task and current speaker\n",
    "    i = 0\n",
    "    tasks_to_delete = []\n",
    "    assignees_to_delete = []\n",
    "    for task in all_tasks:\n",
    "        if ('will do that' in task) or ('can do that' in task) or ('will do it' in task) or ('can do it' in task):\n",
    "            all_tasks[i-1] = all_tasks[i-1].replace(all_assignees[i-1], all_assignees[i])\n",
    "            tasks_to_delete.append(i)\n",
    "            assignees_to_delete.append(i-1)\n",
    "        i += 1\n",
    "\n",
    "    # take out indicies that have reassignment\n",
    "    final_tasks = []\n",
    "    final_assignees = []\n",
    "    for i in range(len(all_tasks)):\n",
    "        if i not in tasks_to_delete:\n",
    "            final_tasks.append(all_tasks[i])\n",
    "\n",
    "    for i in range(len(all_assignees)):\n",
    "        if i not in assignees_to_delete:\n",
    "            final_assignees.append(all_assignees[i])       \n",
    "        \n",
    "    return final_tasks, final_assignees\n",
    "\n",
    "def task_finder(transcript):\n",
    "    # Split transcript into sentences\n",
    "    sentences = transcript.split('.')\n",
    "    all_sentences = [i for i in sentences if i] # removes empty strings\n",
    "\n",
    "    # Go through each sentence and check for task patterns\n",
    "    # Save these sentences into new array as task_sentences\n",
    "    task_sentences = []\n",
    "    task_assigned_to = []\n",
    "    for s in all_sentences:\n",
    "        processed = nlp(s)\n",
    "        is_task = 0\n",
    "        i = 0\n",
    "        assigned_to = \"Team\" # Default to entire team assigned to task\n",
    "\n",
    "        for token in processed:\n",
    "            # if proper-noun/pronoun + 'will/should'\n",
    "            if (token.pos_ == 'PROPN' or token.pos_ == 'PRON') and (token.text != 'It'):\n",
    "                if(i+1 < len(s.split())):\n",
    "                    next_word = processed[i+1].text\n",
    "                    if (next_word == 'will') or (next_word == 'should'):\n",
    "                        is_task = 1\n",
    "                        if (token.pos == 'PROPN') or (token.text == 'I') or (token.text == 'you'):\n",
    "                            assigned_to = token.text\n",
    "\n",
    "            # if '(need, needs) to' in sentence\n",
    "            if (is_task == 0) and ((token.text == 'need') or (token.text == 'needs')):\n",
    "                if(i+1 < len(s.split())):\n",
    "                    next_word = processed[i+1].text\n",
    "                    if (next_word == 'to'):\n",
    "                        is_task = 1\n",
    "                        if processed[i-1].pos_ == 'PROPN':\n",
    "                            assigned_to = processed[i-1].text\n",
    "                        elif (processed[i-1].text == 'I') or (processed[i-1].text == 'you'):\n",
    "                            assigned_to = processed[i-1].text\n",
    "\n",
    "            i = i + 1\n",
    "\n",
    "        if is_task == 1:\n",
    "            task_sentences.append(s)\n",
    "            task_assigned_to.append(assigned_to)\n",
    "    return task_sentences, task_assigned_to\n"
   ]
  },
  {
   "cell_type": "markdown",
   "metadata": {},
   "source": [
    "## Everything else is testing"
   ]
  },
  {
   "cell_type": "code",
   "execution_count": 3,
   "metadata": {},
   "outputs": [
    {
     "name": "stdout",
     "output_type": "stream",
     "text": [
      "set table \n",
      "cook dinner tomorrow \n",
      "\n",
      "go \n"
     ]
    },
    {
     "data": {
      "text/plain": [
       "['set table ', 'cook dinner tomorrow ', 'go ']"
      ]
     },
     "execution_count": 3,
     "metadata": {},
     "output_type": "execute_result"
    }
   ],
   "source": [
    "# fails on \"We should go to the market\"\n",
    "# Gets the core task and ignores fluff sentances (checks that part of speech head is verb)\n",
    "task_list = []\n",
    "for t in transcript:\n",
    "    processed = nlp(t)\n",
    "    curr_task = ''\n",
    "\n",
    "    for token in processed:\n",
    "        if token.head.pos_ == 'VERB' and (token.pos_ == 'VERB' or token.pos_ =='NOUN'):\n",
    "            curr_task += token.text + ' '\n",
    "    print(curr_task)\n",
    "    if curr_task != '':\n",
    "        task_list.append(curr_task)\n",
    "task_list"
   ]
  },
  {
   "cell_type": "code",
   "execution_count": 39,
   "metadata": {},
   "outputs": [
    {
     "name": "stdout",
     "output_type": "stream",
     "text": [
      "I will\n",
      "Alex should\n",
      "We can\n"
     ]
    },
    {
     "data": {
      "text/plain": [
       "['I will', 'Alex should', 'We can']"
      ]
     },
     "execution_count": 39,
     "metadata": {},
     "output_type": "execute_result"
    }
   ],
   "source": [
    "transcript = [\"I will set the table with the blue napkins.\", \"Alex should cook dinner tomorrow.\", \"It is a pretty day outside.\", \"We can go to the market\"]\n",
    "# need to add rest of action somehow\n",
    "# looks for (proper-noun/pronoun + \"will/should/can\")\n",
    "task_list = []\n",
    "for t in transcript:\n",
    "    processed = nlp(t)\n",
    "    curr_task = ''\n",
    "    i = 0\n",
    "\n",
    "    for token in processed:\n",
    "        if (token.pos_ == 'PROPN' or token.pos_ == 'PRON') and (token.text != 'It'):\n",
    "            if(i+1 < len(t.split())):\n",
    "                next_word = processed[i+1].text\n",
    "                if (next_word == 'will') or (next_word == 'should') or (next_word == 'can'):\n",
    "                    curr_task += token.text + ' ' + next_word\n",
    "                    print(curr_task)\n",
    "        i = i + 1\n",
    "    \n",
    "    if curr_task != '':\n",
    "        task_list.append(curr_task)\n",
    "task_list"
   ]
  },
  {
   "cell_type": "code",
   "execution_count": 8,
   "metadata": {},
   "outputs": [
    {
     "name": "stdout",
     "output_type": "stream",
     "text": [
      "['need']\n"
     ]
    }
   ],
   "source": [
    "doc = nlp(\"needed\")\n",
    "print([token.lemma_ for token in doc])"
   ]
  },
  {
   "cell_type": "code",
   "execution_count": 27,
   "metadata": {},
   "outputs": [
    {
     "name": "stdout",
     "output_type": "stream",
     "text": [
      "is\n",
      "cleaning\n",
      "the\n",
      "car\n"
     ]
    }
   ],
   "source": [
    "words = \"She is cleaning the car\"\n",
    "processed = nlp(words)\n",
    "i = 0\n",
    "\n",
    "for token in processed:\n",
    "    if (i+1) < len(words.split()):\n",
    "        print(processed[i+1].text)\n",
    "    i += 1"
   ]
  },
  {
   "cell_type": "code",
   "execution_count": 40,
   "metadata": {},
   "outputs": [
    {
     "name": "stdout",
     "output_type": "stream",
     "text": [
      "['PRON', 'AUX', 'VERB', 'DET', 'NOUN', 'ADP', 'DET', 'ADJ', 'NOUN', 'PUNCT']\n"
     ]
    }
   ],
   "source": [
    "doc = nlp(\"I will set the table with the blue napkins.\")\n",
    "print([token.pos_ for token in doc])"
   ]
  },
  {
   "cell_type": "code",
   "execution_count": null,
   "metadata": {},
   "outputs": [],
   "source": []
  }
 ],
 "metadata": {
  "kernelspec": {
   "display_name": "Python 3",
   "language": "python",
   "name": "python3"
  },
  "language_info": {
   "codemirror_mode": {
    "name": "ipython",
    "version": 3
   },
   "file_extension": ".py",
   "mimetype": "text/x-python",
   "name": "python",
   "nbconvert_exporter": "python",
   "pygments_lexer": "ipython3",
   "version": "3.8.5"
  }
 },
 "nbformat": 4,
 "nbformat_minor": 4
}
