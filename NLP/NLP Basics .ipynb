{
 "cells": [
  {
   "cell_type": "code",
   "execution_count": 13,
   "metadata": {},
   "outputs": [],
   "source": [
    "#https://spacy.io/usage/linguistic-features"
   ]
  },
  {
   "cell_type": "markdown",
   "metadata": {},
   "source": [
    "## Overall Approach"
   ]
  },
  {
   "cell_type": "code",
   "execution_count": 5,
   "metadata": {},
   "outputs": [],
   "source": [
    "def main():\n",
    "    import spacy\n",
    "    nlp = spacy.load(\"en_core_web_sm\")\n",
    "\n",
    "    # Make into list of lists [name, words]\n",
    "    import webvtt\n",
    "\n",
    "    name_transcript = []\n",
    "    for caption in webvtt.read('Transcript.vtt'):\n",
    "        if \":\" in caption.text:\n",
    "            name_transcript.append(caption.text.split(\":\"))\n",
    "        else:\n",
    "            name_transcript.append([\"Team\", caption.text]) # if speaker unknown then assign as team\n",
    "\n",
    "    all_tasks = []\n",
    "    all_assignees = []\n",
    "    curr_speaker = \"\"\n",
    "    prev_speaker = \"\"\n",
    "\n",
    "    # goes through each chunk of someone speaking\n",
    "    for t in name_transcript:\n",
    "        prev_speaker = curr_speaker\n",
    "        curr_speaker = t[0]\n",
    "        curr_tasks, curr_assigned_to = task_finder(nlp, t[1])\n",
    "\n",
    "        if curr_tasks: \n",
    "            all_tasks.append(curr_tasks)\n",
    "            for a in curr_assigned_to:\n",
    "                if a: # not empty\n",
    "                    if a == 'I': # \"I\" --> current speaker\n",
    "                        all_assignees.append(curr_speaker)\n",
    "                    elif a == 'you' or a == 'You': # \"You\" --> previous speaker\n",
    "                        all_assignees.append(prev_speaker)\n",
    "                    else:\n",
    "                        all_assignees.append(a)\n",
    "\n",
    "    # Task Reassignment\n",
    "    # \"That\" --> previous task and current speaker\n",
    "    i = 0\n",
    "    tasks_to_delete = []\n",
    "    assignees_to_delete = []\n",
    "    for task in all_tasks:\n",
    "        if ('will do that' in str(task)) or ('can do that' in str(task)) or ('will do it' in str(task)) or ('can do it' in str(task)):\n",
    "            curr_task = str(all_tasks[i-1])\n",
    "            curr_task = curr_task.replace('[','').replace(']','').replace('\\'','').replace('\\\"','')\n",
    "            all_tasks[i-1] = [curr_task.replace(str(all_assignees[i-1]), str(all_assignees[i]))]\n",
    "            tasks_to_delete.append(i)\n",
    "            assignees_to_delete.append(i-1)\n",
    "        # task that have already been completed\n",
    "        elif ('already did that' in str(task)) or ('completed that' in str(task)) or ('already done' in str(task)):\n",
    "            tasks_to_delete.append(i)\n",
    "            tasks_to_delete.append(i-1)\n",
    "            assignees_to_delete.append(i)\n",
    "            assignees_to_delete.append(i-1)\n",
    "        i += 1\n",
    "\n",
    "    # take out indicies that have reassignment/already done\n",
    "    final_tasks = []\n",
    "    final_assignees = []\n",
    "    for i in range(len(all_tasks)):\n",
    "        if i not in tasks_to_delete:\n",
    "            final_tasks.append(all_tasks[i])\n",
    "\n",
    "    for i in range(len(all_assignees)):\n",
    "        if i not in assignees_to_delete:\n",
    "            final_assignees.append(all_assignees[i])       \n",
    "        \n",
    "    return final_tasks, final_assignees\n",
    "\n",
    "def task_finder(nlp, transcript):\n",
    "    # Split transcript into sentences\n",
    "    sentences = transcript.split('.')\n",
    "    all_sentences = [i for i in sentences if i] # removes empty strings\n",
    "\n",
    "    # Go through each sentence and check for task patterns\n",
    "    # Save these sentences into new array as task_sentences\n",
    "    task_sentences = []\n",
    "    task_assigned_to = []\n",
    "    for s in all_sentences:\n",
    "        processed = nlp(s)\n",
    "        is_task = 0\n",
    "        i = 0\n",
    "        assigned_to = \"Team\" # Default to entire team assigned to task\n",
    "\n",
    "        for token in processed:\n",
    "            # if proper-noun/pronoun + 'will/should'\n",
    "            if (token.pos_ == 'PROPN' or token.pos_ == 'PRON') and (token.text != 'It'):\n",
    "                if(i+1 < len(s.split())):\n",
    "                    next_word = processed[i+1].text\n",
    "                    if (next_word == 'will') or (next_word == 'should'):\n",
    "                        is_task = 1\n",
    "                        if (token.pos_ == 'PROPN') or (token.text == 'I') or (token.text == 'you') or (token.text == 'You'):\n",
    "                            assigned_to = token.text\n",
    "\n",
    "            # if '(need, needs) to' in sentence\n",
    "            if (is_task == 0) and ((token.text == 'need') or (token.text == 'needs')):\n",
    "                if(i+1 < len(s.split())):\n",
    "                    next_word = processed[i+1].text\n",
    "                    if (next_word == 'to'):\n",
    "                        is_task = 1\n",
    "                        if processed[i-1].pos_ == 'PROPN':\n",
    "                            assigned_to = processed[i-1].text\n",
    "                        elif (processed[i-1].text == 'I') or (processed[i-1].text == 'you') or (processed[i-1].text == 'You'):\n",
    "                            assigned_to = processed[i-1].text\n",
    "            \n",
    "            i = i + 1\n",
    "            \n",
    "        # add reassignments/already completed to task list\n",
    "        if (is_task == 0):\n",
    "            if ('can do that' in s) or ('can do it' in s):\n",
    "                is_task = 1\n",
    "                list_of_s = s.split()\n",
    "                i = list_of_s.index('can')\n",
    "                if (processed[i-1].pos_ == 'PROPN') and (i > 1):\n",
    "                    if processed[i-2].pos_ == 'PROPN':\n",
    "                        assigned_to = list_of_s[i-2] + ' ' + list_of_s[i-1]\n",
    "                else:\n",
    "                    assigned_to = list_of_s[i-1]\n",
    "            elif ('will do that' in s) or ('will do it' in s):\n",
    "                is_task = 1\n",
    "                list_of_s = s.split()\n",
    "                i = list_of_s.index('will')\n",
    "                if (processed[i-1].pos_ == 'PROPN') and (i > 1):\n",
    "                    if processed[i-2].pos_ == 'PROPN':\n",
    "                        assigned_to = list_of_s[i-2] + ' ' + list_of_s[i-1]\n",
    "                else:\n",
    "                    assigned_to = list_of_s[i-1]\n",
    "            # add that task is completed to task list\n",
    "            elif ('already did that' in s) or ('completed that' in s) or ('already done' in s):\n",
    "                is_task = 1\n",
    "                \n",
    "        if is_task == 1:\n",
    "            task_sentences.append(s)\n",
    "            task_assigned_to.append(assigned_to)\n",
    "    return task_sentences, task_assigned_to"
   ]
  },
  {
   "cell_type": "code",
   "execution_count": 6,
   "metadata": {},
   "outputs": [
    {
     "data": {
      "text/plain": [
       "([[' You will get the cake'],\n",
       "  [' We first need to find the transcript from the audio with the API'],\n",
       "  [' Abby Heath will make the UI'],\n",
       "  [' We need to build the backend too'],\n",
       "  [' Someone should also probably get started on the front end'],\n",
       "  [' So imagine the two of us are going to need to start a back end'],\n",
       "  [' We need to eat the birthday cake']],\n",
       " ['Abby Heath',\n",
       "  'Team',\n",
       "  'Abby Heath',\n",
       "  'Chenyu Hu',\n",
       "  'Team',\n",
       "  'Team',\n",
       "  'Chenyu Hu'])"
      ]
     },
     "execution_count": 6,
     "metadata": {},
     "output_type": "execute_result"
    }
   ],
   "source": [
    "main()"
   ]
  },
  {
   "cell_type": "markdown",
   "metadata": {},
   "source": [
    "## Everything else is testing"
   ]
  },
  {
   "cell_type": "code",
   "execution_count": 22,
   "metadata": {},
   "outputs": [
    {
     "ename": "NameError",
     "evalue": "name 'transcript' is not defined",
     "output_type": "error",
     "traceback": [
      "\u001b[0;31m---------------------------------------------------------------------------\u001b[0m",
      "\u001b[0;31mNameError\u001b[0m                                 Traceback (most recent call last)",
      "\u001b[0;32m<ipython-input-22-30ce26e219e0>\u001b[0m in \u001b[0;36m<module>\u001b[0;34m\u001b[0m\n\u001b[1;32m      2\u001b[0m \u001b[0;31m# Gets the core task and ignores fluff sentances (checks that part of speech head is verb)\u001b[0m\u001b[0;34m\u001b[0m\u001b[0;34m\u001b[0m\u001b[0;34m\u001b[0m\u001b[0m\n\u001b[1;32m      3\u001b[0m \u001b[0mtask_list\u001b[0m \u001b[0;34m=\u001b[0m \u001b[0;34m[\u001b[0m\u001b[0;34m]\u001b[0m\u001b[0;34m\u001b[0m\u001b[0;34m\u001b[0m\u001b[0m\n\u001b[0;32m----> 4\u001b[0;31m \u001b[0;32mfor\u001b[0m \u001b[0mt\u001b[0m \u001b[0;32min\u001b[0m \u001b[0mtranscript\u001b[0m\u001b[0;34m:\u001b[0m\u001b[0;34m\u001b[0m\u001b[0;34m\u001b[0m\u001b[0m\n\u001b[0m\u001b[1;32m      5\u001b[0m     \u001b[0mprocessed\u001b[0m \u001b[0;34m=\u001b[0m \u001b[0mnlp\u001b[0m\u001b[0;34m(\u001b[0m\u001b[0mt\u001b[0m\u001b[0;34m)\u001b[0m\u001b[0;34m\u001b[0m\u001b[0;34m\u001b[0m\u001b[0m\n\u001b[1;32m      6\u001b[0m     \u001b[0mcurr_task\u001b[0m \u001b[0;34m=\u001b[0m \u001b[0;34m''\u001b[0m\u001b[0;34m\u001b[0m\u001b[0;34m\u001b[0m\u001b[0m\n",
      "\u001b[0;31mNameError\u001b[0m: name 'transcript' is not defined"
     ]
    }
   ],
   "source": [
    "# fails on \"We should go to the market\"\n",
    "# Gets the core task and ignores fluff sentances (checks that part of speech head is verb)\n",
    "task_list = []\n",
    "for t in transcript:\n",
    "    processed = nlp(t)\n",
    "    curr_task = ''\n",
    "\n",
    "    for token in processed:\n",
    "        if token.head.pos_ == 'VERB' and (token.pos_ == 'VERB' or token.pos_ =='NOUN'):\n",
    "            curr_task += token.text + ' '\n",
    "    print(curr_task)\n",
    "    if curr_task != '':\n",
    "        task_list.append(curr_task)\n",
    "task_list"
   ]
  },
  {
   "cell_type": "code",
   "execution_count": 39,
   "metadata": {},
   "outputs": [
    {
     "name": "stdout",
     "output_type": "stream",
     "text": [
      "I will\n",
      "Alex should\n",
      "We can\n"
     ]
    },
    {
     "data": {
      "text/plain": [
       "['I will', 'Alex should', 'We can']"
      ]
     },
     "execution_count": 39,
     "metadata": {},
     "output_type": "execute_result"
    }
   ],
   "source": [
    "transcript = [\"I will set the table with the blue napkins.\", \"Alex should cook dinner tomorrow.\", \"It is a pretty day outside.\", \"We can go to the market\"]\n",
    "# need to add rest of action somehow\n",
    "# looks for (proper-noun/pronoun + \"will/should/can\")\n",
    "task_list = []\n",
    "for t in transcript:\n",
    "    processed = nlp(t)\n",
    "    curr_task = ''\n",
    "    i = 0\n",
    "\n",
    "    for token in processed:\n",
    "        if (token.pos_ == 'PROPN' or token.pos_ == 'PRON') and (token.text != 'It'):\n",
    "            if(i+1 < len(t.split())):\n",
    "                next_word = processed[i+1].text\n",
    "                if (next_word == 'will') or (next_word == 'should') or (next_word == 'can'):\n",
    "                    curr_task += token.text + ' ' + next_word\n",
    "                    print(curr_task)\n",
    "        i = i + 1\n",
    "    \n",
    "    if curr_task != '':\n",
    "        task_list.append(curr_task)\n",
    "task_list"
   ]
  },
  {
   "cell_type": "code",
   "execution_count": 8,
   "metadata": {},
   "outputs": [
    {
     "name": "stdout",
     "output_type": "stream",
     "text": [
      "['need']\n"
     ]
    }
   ],
   "source": [
    "doc = nlp(\"needed\")\n",
    "print([token.lemma_ for token in doc])"
   ]
  },
  {
   "cell_type": "code",
   "execution_count": 27,
   "metadata": {},
   "outputs": [
    {
     "name": "stdout",
     "output_type": "stream",
     "text": [
      "is\n",
      "cleaning\n",
      "the\n",
      "car\n"
     ]
    }
   ],
   "source": [
    "words = \"She is cleaning the car\"\n",
    "processed = nlp(words)\n",
    "i = 0\n",
    "\n",
    "for token in processed:\n",
    "    if (i+1) < len(words.split()):\n",
    "        print(processed[i+1].text)\n",
    "    i += 1"
   ]
  },
  {
   "cell_type": "code",
   "execution_count": 78,
   "metadata": {},
   "outputs": [
    {
     "name": "stdout",
     "output_type": "stream",
     "text": [
      "['PROPN', 'AUX', 'VERB', 'DET', 'NOUN']\n"
     ]
    }
   ],
   "source": [
    "doc = nlp(\"Alena will paint the wall\")\n",
    "print([token.pos_ for token in doc])"
   ]
  },
  {
   "cell_type": "code",
   "execution_count": null,
   "metadata": {},
   "outputs": [],
   "source": []
  }
 ],
 "metadata": {
  "kernelspec": {
   "display_name": "Python 3 (ipykernel)",
   "language": "python",
   "name": "python3"
  },
  "language_info": {
   "codemirror_mode": {
    "name": "ipython",
    "version": 3
   },
   "file_extension": ".py",
   "mimetype": "text/x-python",
   "name": "python",
   "nbconvert_exporter": "python",
   "pygments_lexer": "ipython3",
   "version": "3.10.1"
  }
 },
 "nbformat": 4,
 "nbformat_minor": 4
}
