{
 "cells": [
  {
   "cell_type": "code",
   "execution_count": 1,
   "metadata": {},
   "outputs": [],
   "source": [
    "#https://spacy.io/usage/linguistic-features#dependency-parse"
   ]
  },
  {
   "cell_type": "code",
   "execution_count": 35,
   "metadata": {},
   "outputs": [],
   "source": [
    "import spacy\n",
    "nlp = spacy.load(\"en_core_web_sm\")\n",
    "\n",
    "transcript = [\"I will set the table with the blue napkins.\", \"You should cook dinner tomorrow.\", \"It's a pretty day outside.\", \"We should go to the market\"]\n",
    "task_list = []"
   ]
  },
  {
   "cell_type": "code",
   "execution_count": 36,
   "metadata": {},
   "outputs": [
    {
     "name": "stdout",
     "output_type": "stream",
     "text": [
      "set table \n",
      "cook dinner tomorrow \n",
      "\n",
      "go \n"
     ]
    },
    {
     "data": {
      "text/plain": [
       "['set table ', 'cook dinner tomorrow ', 'go ']"
      ]
     },
     "execution_count": 36,
     "metadata": {},
     "output_type": "execute_result"
    }
   ],
   "source": [
    "# fails on \"We should go to the market\"\n",
    "# Gets the core task and ignores fluff sentances (checks that part of speech head is verb)\n",
    "task_list = []\n",
    "for t in transcript:\n",
    "    processed = nlp(t)\n",
    "    curr_task = ''\n",
    "\n",
    "    for token in processed:\n",
    "        if token.head.pos_ == 'VERB' and (token.pos_ == 'VERB' or token.pos_ =='NOUN'):\n",
    "            curr_task += token.text + ' '\n",
    "    print(curr_task)\n",
    "    if curr_task != '':\n",
    "        task_list.append(curr_task)\n",
    "task_list"
   ]
  },
  {
   "cell_type": "code",
   "execution_count": 76,
   "metadata": {},
   "outputs": [
    {
     "data": {
      "text/plain": [
       "[]"
      ]
     },
     "execution_count": 76,
     "metadata": {},
     "output_type": "execute_result"
    }
   ],
   "source": [
    "# not tested\n",
    "# looks for (propper-noun/pronoun + \"will/should/can\")\n",
    "task_list = []\n",
    "for t in transcript:\n",
    "    processed = nlp(t)\n",
    "    curr_task = ''\n",
    "    i = 0\n",
    "\n",
    "    for token in processed:\n",
    "        if (token.pos_ == 'PROPN' or token.pos_ == 'PRON'):\n",
    "            if(i+1 < len(t.split())) and (t[i+1] == 'will|should|can'):\n",
    "                curr_task += token.text + ' '\n",
    "                print(curr_task)\n",
    "        i+=1\n",
    "    \n",
    "        if curr_task != '':\n",
    "            task_list.append(curr_task)\n",
    "task_list"
   ]
  },
  {
   "cell_type": "code",
   "execution_count": 44,
   "metadata": {},
   "outputs": [
    {
     "name": "stdout",
     "output_type": "stream",
     "text": [
      "['can']\n"
     ]
    }
   ],
   "source": [
    "doc = nlp(\"will\")\n",
    "print([token.lemma_ for token in doc])"
   ]
  },
  {
   "cell_type": "code",
   "execution_count": 74,
   "metadata": {},
   "outputs": [
    {
     "name": "stdout",
     "output_type": "stream",
     "text": [
      "is\n",
      "cleaning\n",
      "the\n",
      "car\n"
     ]
    }
   ],
   "source": [
    "words = \"She is cleaning the car\"\n",
    "t = nlp(words)\n",
    "i = 0\n",
    "\n",
    "for token in t:\n",
    "    if (i+1) < len(words.split()):\n",
    "        print(t[i+1].text)\n",
    "    i += 1"
   ]
  },
  {
   "cell_type": "code",
   "execution_count": null,
   "metadata": {},
   "outputs": [],
   "source": []
  }
 ],
 "metadata": {
  "kernelspec": {
   "display_name": "Python 3 (ipykernel)",
   "language": "python",
   "name": "python3"
  },
  "language_info": {
   "codemirror_mode": {
    "name": "ipython",
    "version": 3
   },
   "file_extension": ".py",
   "mimetype": "text/x-python",
   "name": "python",
   "nbconvert_exporter": "python",
   "pygments_lexer": "ipython3",
   "version": "3.10.1"
  }
 },
 "nbformat": 4,
 "nbformat_minor": 4
}
