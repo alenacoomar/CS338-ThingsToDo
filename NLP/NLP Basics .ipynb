{
 "cells": [
  {
   "cell_type": "code",
   "execution_count": null,
   "metadata": {},
   "outputs": [],
   "source": [
    "#https://spacy.io/usage/linguistic-features#dependency-parse"
   ]
  },
  {
   "cell_type": "code",
   "execution_count": 11,
   "metadata": {},
   "outputs": [],
   "source": [
    "import spacy\n",
    "nlp = spacy.load(\"en_core_web_sm\")\n",
    "\n",
    "transcript1 = \"I will set the table with the blue napkins\"\n",
    "transcript2 = \"You should cook dinner tomorrow.\"\n",
    "transcript3 = \"It's a pretty day outside.\"\n",
    "task_list = []"
   ]
  },
  {
   "cell_type": "code",
   "execution_count": 35,
   "metadata": {},
   "outputs": [
    {
     "name": "stdout",
     "output_type": "stream",
     "text": [
      "set table \n"
     ]
    },
    {
     "data": {
      "text/plain": [
       "['set table ', 'set table ']"
      ]
     },
     "execution_count": 35,
     "metadata": {},
     "output_type": "execute_result"
    }
   ],
   "source": [
    "processed1 = nlp(transcript1)\n",
    "curr_task = ''\n",
    "\n",
    "for token in processed1:\n",
    "    #print(token.text,token.pos_, [child for child in token.children])\n",
    "    if token.head.pos_ == 'VERB' and (token.pos_ == 'VERB' or token.pos_ =='NOUN'):\n",
    "        curr_task += token.text + ' '\n",
    "print(curr_task)\n",
    "task_list.append(curr_task)\n",
    "task_list"
   ]
  },
  {
   "cell_type": "code",
   "execution_count": 8,
   "metadata": {},
   "outputs": [
    {
     "name": "stdout",
     "output_type": "stream",
     "text": [
      "You nsubj Head of this token is cook []\n",
      "should aux Head of this token is cook []\n",
      "cook ROOT Head of this token is cook [You, should, dinner, tomorrow, .]\n",
      "dinner dobj Head of this token is cook []\n",
      "tomorrow npadvmod Head of this token is cook []\n",
      ". punct Head of this token is cook []\n"
     ]
    }
   ],
   "source": [
    "processed2 = nlp(transcript2)\n",
    "for token in processed2:\n",
    "    print(token.text, token.dep_,\"Head of this token is\", token.head.text,[child for child in token.children])"
   ]
  },
  {
   "cell_type": "code",
   "execution_count": 9,
   "metadata": {},
   "outputs": [
    {
     "name": "stdout",
     "output_type": "stream",
     "text": [
      "It nsubj Head of this token is 's []\n",
      "'s ROOT Head of this token is 's [It, outside, .]\n",
      "a det Head of this token is day []\n",
      "pretty amod Head of this token is day []\n",
      "day npadvmod Head of this token is outside [a, pretty]\n",
      "outside advmod Head of this token is 's [day]\n",
      ". punct Head of this token is 's []\n"
     ]
    }
   ],
   "source": [
    "processed3 = nlp(transcript3)\n",
    "for token in processed3:\n",
    "    print(token.text, token.dep_,\"Head of this token is\", token.head.text,[child for child in token.children])"
   ]
  },
  {
   "cell_type": "code",
   "execution_count": null,
   "metadata": {},
   "outputs": [],
   "source": []
  }
 ],
 "metadata": {
  "kernelspec": {
   "display_name": "Python 3",
   "language": "python",
   "name": "python3"
  },
  "language_info": {
   "codemirror_mode": {
    "name": "ipython",
    "version": 3
   },
   "file_extension": ".py",
   "mimetype": "text/x-python",
   "name": "python",
   "nbconvert_exporter": "python",
   "pygments_lexer": "ipython3",
   "version": "3.8.5"
  }
 },
 "nbformat": 4,
 "nbformat_minor": 4
}
