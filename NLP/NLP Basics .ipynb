{
 "cells": [
  {
   "cell_type": "code",
   "execution_count": 59,
   "metadata": {},
   "outputs": [],
   "source": [
    "#https://spacy.io/usage/linguistic-features"
   ]
  },
  {
   "cell_type": "markdown",
   "metadata": {},
   "source": [
    "## Overall Approach"
   ]
  },
  {
   "cell_type": "code",
   "execution_count": 32,
   "metadata": {},
   "outputs": [],
   "source": [
    "import spacy\n",
    "nlp = spacy.load(\"en_core_web_sm\")"
   ]
  },
  {
   "cell_type": "code",
   "execution_count": 33,
   "metadata": {},
   "outputs": [],
   "source": [
    "# 0. Make into list of lists [name, words]\n",
    "import webvtt\n",
    "\n",
    "name_transcript = []\n",
    "for caption in webvtt.read('Transcript.vtt'):\n",
    "    if \":\" in caption.text:\n",
    "        name_transcript.append(caption.text.split(\":\"))\n",
    "    else:\n",
    "        name_transcript.append([\"N/A\", caption.text])"
   ]
  },
  {
   "cell_type": "code",
   "execution_count": 34,
   "metadata": {},
   "outputs": [],
   "source": [
    "def task_finder(transcript):\n",
    "    # 1. Split transcript into sentences\n",
    "    sentences = transcript.split('.')\n",
    "    all_sentences = [i for i in sentences if i] # removes empty strings\n",
    "\n",
    "    # 2. Go through each sentence and check for task patterns\n",
    "    #    Save these sentences into new array as task_sentences\n",
    "    task_sentences = []\n",
    "    for s in all_sentences:\n",
    "        processed = nlp(s)\n",
    "        is_task = 0\n",
    "        i = 0\n",
    "\n",
    "        for token in processed:\n",
    "            # if proper-noun/pronoun + 'will/should'\n",
    "            if (token.pos_ == 'PROPN' or token.pos_ == 'PRON') and (token.text != 'It'):\n",
    "                if(i+1 < len(s.split())):\n",
    "                    next_word = processed[i+1].text\n",
    "                    if (next_word == 'will') or (next_word == 'should'):\n",
    "                        is_task = 1\n",
    "\n",
    "            # if '(need, needs) to' in sentence\n",
    "            if (is_task == 0) and ((token.text == 'need') or (token.text == 'needs')):\n",
    "                if(i+1 < len(s.split())):\n",
    "                    next_word = processed[i+1].text\n",
    "                    if (next_word == 'to'):\n",
    "                        is_task = 1\n",
    "\n",
    "            i = i + 1\n",
    "\n",
    "        if is_task == 1:\n",
    "            task_sentences.append(s)\n",
    "    return task_sentences"
   ]
  },
  {
   "cell_type": "code",
   "execution_count": 35,
   "metadata": {},
   "outputs": [
    {
     "data": {
      "text/plain": [
       "[[' So what do we still What else do we need to what tasks, do we need to assign'],\n",
       " [' Someone should also probably get started on the front end'],\n",
       " [' So imagine the two of us are going to need to start a back end']]"
      ]
     },
     "execution_count": 35,
     "metadata": {},
     "output_type": "execute_result"
    }
   ],
   "source": [
    "all_tasks = []\n",
    "curr_speaker = \"\"\n",
    "prev_speaker = \"\"\n",
    "for t in name_transcript:\n",
    "    prev_speaker = curr_speaker\n",
    "    curr_speaker = t[0]\n",
    "    curr_task = task_finder(t[1])\n",
    "    \n",
    "    if curr_task:\n",
    "        all_tasks.append(curr_task)\n",
    "    \n",
    "all_tasks\n",
    "\n",
    " # 3. Person match\n",
    "    # \"I\" --> current speaker\n",
    "    # \"You\" --> previous speaker\n",
    "    # \"That\" --> previous task? like Alena will do that\n",
    "    "
   ]
  },
  {
   "cell_type": "markdown",
   "metadata": {},
   "source": [
    "## Everything else is testing"
   ]
  },
  {
   "cell_type": "code",
   "execution_count": 3,
   "metadata": {},
   "outputs": [
    {
     "name": "stdout",
     "output_type": "stream",
     "text": [
      "set table \n",
      "cook dinner tomorrow \n",
      "\n",
      "go \n"
     ]
    },
    {
     "data": {
      "text/plain": [
       "['set table ', 'cook dinner tomorrow ', 'go ']"
      ]
     },
     "execution_count": 3,
     "metadata": {},
     "output_type": "execute_result"
    }
   ],
   "source": [
    "# fails on \"We should go to the market\"\n",
    "# Gets the core task and ignores fluff sentances (checks that part of speech head is verb)\n",
    "task_list = []\n",
    "for t in transcript:\n",
    "    processed = nlp(t)\n",
    "    curr_task = ''\n",
    "\n",
    "    for token in processed:\n",
    "        if token.head.pos_ == 'VERB' and (token.pos_ == 'VERB' or token.pos_ =='NOUN'):\n",
    "            curr_task += token.text + ' '\n",
    "    print(curr_task)\n",
    "    if curr_task != '':\n",
    "        task_list.append(curr_task)\n",
    "task_list"
   ]
  },
  {
   "cell_type": "code",
   "execution_count": 39,
   "metadata": {},
   "outputs": [
    {
     "name": "stdout",
     "output_type": "stream",
     "text": [
      "I will\n",
      "Alex should\n",
      "We can\n"
     ]
    },
    {
     "data": {
      "text/plain": [
       "['I will', 'Alex should', 'We can']"
      ]
     },
     "execution_count": 39,
     "metadata": {},
     "output_type": "execute_result"
    }
   ],
   "source": [
    "transcript = [\"I will set the table with the blue napkins.\", \"Alex should cook dinner tomorrow.\", \"It is a pretty day outside.\", \"We can go to the market\"]\n",
    "# need to add rest of action somehow\n",
    "# looks for (proper-noun/pronoun + \"will/should/can\")\n",
    "task_list = []\n",
    "for t in transcript:\n",
    "    processed = nlp(t)\n",
    "    curr_task = ''\n",
    "    i = 0\n",
    "\n",
    "    for token in processed:\n",
    "        if (token.pos_ == 'PROPN' or token.pos_ == 'PRON') and (token.text != 'It'):\n",
    "            if(i+1 < len(t.split())):\n",
    "                next_word = processed[i+1].text\n",
    "                if (next_word == 'will') or (next_word == 'should') or (next_word == 'can'):\n",
    "                    curr_task += token.text + ' ' + next_word\n",
    "                    print(curr_task)\n",
    "        i = i + 1\n",
    "    \n",
    "    if curr_task != '':\n",
    "        task_list.append(curr_task)\n",
    "task_list"
   ]
  },
  {
   "cell_type": "code",
   "execution_count": 8,
   "metadata": {},
   "outputs": [
    {
     "name": "stdout",
     "output_type": "stream",
     "text": [
      "['need']\n"
     ]
    }
   ],
   "source": [
    "doc = nlp(\"needed\")\n",
    "print([token.lemma_ for token in doc])"
   ]
  },
  {
   "cell_type": "code",
   "execution_count": 27,
   "metadata": {},
   "outputs": [
    {
     "name": "stdout",
     "output_type": "stream",
     "text": [
      "is\n",
      "cleaning\n",
      "the\n",
      "car\n"
     ]
    }
   ],
   "source": [
    "words = \"She is cleaning the car\"\n",
    "processed = nlp(words)\n",
    "i = 0\n",
    "\n",
    "for token in processed:\n",
    "    if (i+1) < len(words.split()):\n",
    "        print(processed[i+1].text)\n",
    "    i += 1"
   ]
  },
  {
   "cell_type": "code",
   "execution_count": 40,
   "metadata": {},
   "outputs": [
    {
     "name": "stdout",
     "output_type": "stream",
     "text": [
      "['PRON', 'AUX', 'VERB', 'DET', 'NOUN', 'ADP', 'DET', 'ADJ', 'NOUN', 'PUNCT']\n"
     ]
    }
   ],
   "source": [
    "doc = nlp(\"I will set the table with the blue napkins.\")\n",
    "print([token.pos_ for token in doc])"
   ]
  },
  {
   "cell_type": "code",
   "execution_count": null,
   "metadata": {},
   "outputs": [],
   "source": []
  }
 ],
 "metadata": {
  "kernelspec": {
   "display_name": "Python 3",
   "language": "python",
   "name": "python3"
  },
  "language_info": {
   "codemirror_mode": {
    "name": "ipython",
    "version": 3
   },
   "file_extension": ".py",
   "mimetype": "text/x-python",
   "name": "python",
   "nbconvert_exporter": "python",
   "pygments_lexer": "ipython3",
   "version": "3.8.5"
  }
 },
 "nbformat": 4,
 "nbformat_minor": 4
}
